{
 "cells": [
  {
   "cell_type": "markdown",
   "metadata": {},
   "source": [
    "# Lab 1: Build a Similarity Search for YouTube Transcripts\n",
    "\n",
    "In this notebook, you will use the AzureOpenAI client to get the text embeddings of a string and perform a cosine similarity comparison against the transcripts from [Boston Azure Youtube channel](https://www.youtube.com/bostonazure) to find the videos with the highest similarity.\n",
    "\n",
    "## Learning Objectives\n",
    "\n",
    "* Load the variables in the .env file\n",
    "* Connect to AzureOpenAI in C#\n",
    "* Load the transcript file\n",
    "* Calculate the similarity of a transcript's embeddings to the text embedding\n",
    "* Output the most similar videos with a url formatted to navigate to the 5 min section that was found most similiar\n",
    "\n",
    "### Step 1: load environment variables and create the AzureOpenAI client\n"
   ]
  },
  {
   "cell_type": "markdown",
   "metadata": {},
   "source": [
    "Add references for libraries we are going to use and using statements to simplify our code:"
   ]
  },
  {
   "cell_type": "code",
   "execution_count": null,
   "metadata": {
    "dotnet_interactive": {
     "language": "csharp"
    },
    "polyglot_notebook": {
     "kernelName": "csharp"
    }
   },
   "outputs": [],
   "source": [
    "#r \"nuget: Azure.AI.OpenAI, *-*\"\n",
    "#r \"nuget: Azure, *-*\"\n",
    "#r \"nuget: dotenv.net, *-*\"\n",
    "#r \"nuget:Microsoft.DotNet.Interactive.AIUtilities, *-*\"\n",
    "\n",
    "using Microsoft.DotNet.Interactive;\n",
    "using Microsoft.DotNet.Interactive.AIUtilities;\n",
    "using dotenv.net;\n",
    "using Azure.AI.OpenAI;\n",
    "using Azure;\n",
    "using System;\n",
    "using System.Text.Json;\n",
    "using System.Text.Json.Serialization;\n",
    "using System.IO;"
   ]
  },
  {
   "cell_type": "markdown",
   "metadata": {},
   "source": [
    "Load the environment variables in the .env file and configure OpenAIClient:"
   ]
  },
  {
   "cell_type": "code",
   "execution_count": null,
   "metadata": {
    "dotnet_interactive": {
     "language": "csharp"
    },
    "polyglot_notebook": {
     "kernelName": "csharp"
    }
   },
   "outputs": [],
   "source": [
    "DotEnv.Load();\n",
    "\n",
    "var envVars = DotEnv.Read();\n",
    "\n",
    "OpenAIClient client = new(new Uri(envVars[\"AZURE_OPENAI_ENDPOINT\"]), \n",
    "    new AzureKeyCredential(envVars[\"AZURE_OPENAI_API_KEY\"]));\n",
    "\n",
    "var model = envVars[\"AZURE_OPENAI_EMBEDDINGS_DEPLOYMENT\"];"
   ]
  },
  {
   "cell_type": "markdown",
   "metadata": {},
   "source": [
    "### Step 2: Set the threshold for the similarity score we want to use and version of the transcript file.    "
   ]
  },
  {
   "cell_type": "code",
   "execution_count": null,
   "metadata": {
    "dotnet_interactive": {
     "language": "csharp"
    },
    "polyglot_notebook": {
     "kernelName": "csharp"
    }
   },
   "outputs": [],
   "source": [
    "var SIMILARITIES_RESULTS_THRESHOLD = 0.70;\n",
    "var DATASET_NAME = \"./prep/output/master_enriched.json\";"
   ]
  },
  {
   "cell_type": "markdown",
   "metadata": {},
   "source": [
    "### Step 3: Create some utility methods"
   ]
  },
  {
   "cell_type": "markdown",
   "metadata": {},
   "source": [
    "Create a couple of data structures to hold the data and the similarity score:"
   ]
  },
  {
   "cell_type": "code",
   "execution_count": null,
   "metadata": {
    "dotnet_interactive": {
     "language": "csharp"
    },
    "polyglot_notebook": {
     "kernelName": "csharp"
    }
   },
   "outputs": [],
   "source": [
    "public record DataRow(string speaker, string title, string videoId, string description, string start, int seconds, string text, float[] ada_v2);\n",
    "public record DataRow2(string speaker, string title, string videoId, string description, string start, int seconds, float similarity);"
   ]
  },
  {
   "cell_type": "markdown",
   "metadata": {},
   "source": [
    "Create utility methods:"
   ]
  },
  {
   "cell_type": "code",
   "execution_count": null,
   "metadata": {
    "dotnet_interactive": {
     "language": "csharp"
    },
    "polyglot_notebook": {
     "kernelName": "csharp"
    }
   },
   "outputs": [],
   "source": [
    "\n",
    "Func<string, DataRow[]> LoadDataset = (string source) => {\n",
    "\n",
    "    var transcripts = JsonSerializer.Deserialize<DataRow[]>(\n",
    "        File.ReadAllText(source));\n",
    "    return transcripts;\n",
    "};\n",
    "\n",
    "Func<string, DataRow[], int, Task<DataRow2[]>> GetVideos = async (string query, DataRow[] data, int rows) => {\n",
    "    \n",
    "    // get the embeddings for the query\n",
    "    var response = await client.GetEmbeddingsAsync(new EmbeddingsOptions(model, new []{ query }));\n",
    "    var queryEmbeddings = response.Value.Data[0].Embedding.ToArray();\n",
    "    \n",
    "    // use CosineSimilarityComparer to compare the query embeddings with the embeddings in the dataset\n",
    "    var result = data\n",
    "        .ScoreBySimilarityTo(queryEmbeddings, new CosineSimilarityComparer<float[]>(t => t),e => e.ada_v2)\n",
    "        .OrderByDescending(s => s.Score)\n",
    "        .Take(rows)\n",
    "        .Select(r => new DataRow2(r.Value.speaker, r.Value.title, r.Value.videoId, r.Value.description, r.Value.start, r.Value.seconds, r.Score));\n",
    "    \n",
    "    return result.ToArray();\n",
    "};\n",
    "\n",
    "Action<DataRow2[], string> DisplayResults = (DataRow2[] data, string query) => {\n",
    "    Console.WriteLine($\"\\nVideos similar to '{query}':\");\n",
    "    Console.WriteLine(\"\");\n",
    "    foreach (var row in data)\n",
    "    {\n",
    "        var youtube_url = $\"https://youtu.be/{row.videoId}?t={row.seconds}\";\n",
    "        Console.WriteLine($\" - {row.title}\");\n",
    "        Console.WriteLine($\"   YouTube: {youtube_url}\");\n",
    "        Console.WriteLine($\"   Similarity: {row.similarity}\");\n",
    "    }\n",
    "    Console.WriteLine(\"\");\n",
    "};\n"
   ]
  },
  {
   "cell_type": "markdown",
   "metadata": {},
   "source": [
    "### Step 4: Load the transcript file (and take a look at what is in it)"
   ]
  },
  {
   "cell_type": "code",
   "execution_count": null,
   "metadata": {
    "dotnet_interactive": {
     "language": "csharp"
    },
    "polyglot_notebook": {
     "kernelName": "csharp"
    }
   },
   "outputs": [],
   "source": [
    "var transcriptData = LoadDataset(DATASET_NAME);"
   ]
  },
  {
   "cell_type": "markdown",
   "metadata": {},
   "source": [
    "Notice that this version of the transcripts file has the embeddings in it already for the 5 minute chunks of the transcript text. The embeddings are the ada_v2 column."
   ]
  },
  {
   "cell_type": "code",
   "execution_count": null,
   "metadata": {
    "dotnet_interactive": {
     "language": "csharp"
    },
    "polyglot_notebook": {
     "kernelName": "csharp"
    }
   },
   "outputs": [],
   "source": [
    "transcriptData.Take(4).DisplayTable();"
   ]
  },
  {
   "cell_type": "markdown",
   "metadata": {},
   "source": [
    "### Step 5: Try it out\n",
    "\n",
    "I've put some default text in for a good example, but you should change the query to your own search and see what comes back."
   ]
  },
  {
   "cell_type": "code",
   "execution_count": null,
   "metadata": {
    "dotnet_interactive": {
     "language": "csharp"
    },
    "polyglot_notebook": {
     "kernelName": "csharp"
    }
   },
   "outputs": [],
   "source": [
    "var query = \"What is RAG\";\n",
    "\n",
    "var videos = await GetVideos(query, transcriptData, 5);\n",
    "DisplayResults(videos, query);"
   ]
  }
 ],
 "metadata": {
  "kernelspec": {
   "display_name": ".NET (C#)",
   "language": "C#",
   "name": ".net-csharp"
  },
  "polyglot_notebook": {
   "kernelInfo": {
    "defaultKernelName": "csharp",
    "items": [
     {
      "aliases": [],
      "languageName": "csharp",
      "name": "csharp"
     }
    ]
   }
  }
 },
 "nbformat": 4,
 "nbformat_minor": 2
}
