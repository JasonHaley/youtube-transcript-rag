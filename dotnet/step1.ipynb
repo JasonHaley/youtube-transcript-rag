{
 "cells": [
  {
   "cell_type": "markdown",
   "metadata": {},
   "source": [
    "# Lab 1: Build a Similarity Search for YouTube Transcripts\n",
    "\n",
    "In this notebook, you will use the AzureOpenAI client to get the text embeddings of a string and perform a cosine similarity comparison against the transcripts from [Boston Azure Youtube channel](https://www.youtube.com/bostonazure) to find the videos with the highest similarity.\n",
    "\n",
    "## Learning Objectives\n",
    "\n",
    "* Load the variables in the .env file\n",
    "* Connect to AzureOpenAI in C#\n",
    "* Load the transcript file and create a ??\n",
    "* Calculate the similarity of a transcript's embeddings to the text embedding\n",
    "* Output the most similar videos with a url formatted to navigate to the 5 min section that was found most similiar\n",
    "\n",
    "### Step 1: load environment variables and create the AzureOpenAI client\n"
   ]
  },
  {
   "cell_type": "code",
   "execution_count": null,
   "metadata": {
    "dotnet_interactive": {
     "language": "csharp"
    },
    "polyglot_notebook": {
     "kernelName": "csharp"
    }
   },
   "outputs": [],
   "source": [
    "#r \"nuget: Azure.AI.OpenAI, *-*\"\n",
    "#r \"nuget: Azure, *-*\"\n",
    "#r \"nuget: dotenv.net, *-*\"\n",
    "\n",
    "using dotenv.net;\n",
    "using Azure.AI.OpenAI;\n",
    "using Azure;\n",
    "using System;\n",
    "\n",
    "DotEnv.Load();\n",
    "\n",
    "var envVars = DotEnv.Read();\n",
    "\n",
    "OpenAIClient client = new(new Uri(envVars[\"AZURE_OPENAI_ENDPOINT\"]), \n",
    "    new AzureKeyCredential(envVars[\"AZURE_OPENAI_API_KEY\"]));\n",
    "\n",
    "var model = envVars[\"AZURE_OPENAI_EMBEDDINGS_DEPLOYMENT\"];"
   ]
  },
  {
   "cell_type": "markdown",
   "metadata": {},
   "source": [
    "### Step 2: Set the threshold for the similarity score we want to use and version of the transcript file.    "
   ]
  },
  {
   "cell_type": "code",
   "execution_count": 2,
   "metadata": {
    "dotnet_interactive": {
     "language": "csharp"
    },
    "polyglot_notebook": {
     "kernelName": "csharp"
    }
   },
   "outputs": [],
   "source": [
    "var SIMILARITIES_RESULTS_THRESHOLD = 0.70;\n",
    "var DATASET_NAME = \"./prep/output/master_enriched.json\";"
   ]
  },
  {
   "cell_type": "markdown",
   "metadata": {},
   "source": [
    "### Step 3: Create some utility methods"
   ]
  },
  {
   "cell_type": "code",
   "execution_count": 17,
   "metadata": {},
   "outputs": [],
   "source": [
    "using System.Text.Json;\n",
    "using System.Text.Json.Serialization;\n",
    "using System.IO;\n",
    "\n",
    "public record DataRow(string speaker, string title, string videoId, string description, string start, int seconds, string text, float[] ada_v2);\n",
    "public record DataRow2(string speaker, string title, string videoId, string description, string start, int seconds, float similarity);\n",
    "\n",
    "Func<string, DataRow[]> LoadDataset = (string source) => {\n",
    "\n",
    "    var transcripts = JsonSerializer.Deserialize<DataRow[]>(\n",
    "        File.ReadAllText(source));\n",
    "    return transcripts;\n",
    "};\n",
    "\n",
    "Func<string, DataRow[], int, DataRow2[]> GetVideos = (string query, DataRow[] data, int seconds) => {\n",
    "    return new DataRow2[] { };\n",
    "};\n",
    "\n",
    "Action<DataRow2[], string> DisplayResults = (DataRow2[] data, string query) => {\n",
    "    \n",
    "};\n"
   ]
  },
  {
   "cell_type": "markdown",
   "metadata": {},
   "source": [
    "### Step 4: Load the transcript file (and take a look at what is in it)"
   ]
  },
  {
   "cell_type": "code",
   "execution_count": 19,
   "metadata": {
    "dotnet_interactive": {
     "language": "csharp"
    },
    "polyglot_notebook": {
     "kernelName": "csharp"
    }
   },
   "outputs": [],
   "source": [
    "var transcriptData = LoadDataset(DATASET_NAME);"
   ]
  },
  {
   "cell_type": "markdown",
   "metadata": {},
   "source": [
    "Notice that this version of the transcripts file has the embeddings in it already for the 5 minute chunks of the transcript text. The embeddings are the ada_v2 column."
   ]
  },
  {
   "cell_type": "code",
   "execution_count": null,
   "metadata": {
    "dotnet_interactive": {
     "language": "csharp"
    },
    "polyglot_notebook": {
     "kernelName": "csharp"
    }
   },
   "outputs": [],
   "source": [
    "transcriptData.Take(4).DisplayTable();"
   ]
  },
  {
   "cell_type": "markdown",
   "metadata": {},
   "source": [
    "### Step 5: Try it out\n",
    "\n",
    "I've put some default text in for a good example, but you should change the query to your own search and see what comes back."
   ]
  },
  {
   "cell_type": "code",
   "execution_count": 21,
   "metadata": {},
   "outputs": [],
   "source": [
    "var query = \"What is semantic kernel?\";\n",
    "\n",
    "var videos = GetVideos(query, transcriptData, 5);\n",
    "DisplayResults(videos, query);"
   ]
  }
 ],
 "metadata": {
  "kernelspec": {
   "display_name": ".NET (C#)",
   "language": "C#",
   "name": ".net-csharp"
  },
  "polyglot_notebook": {
   "kernelInfo": {
    "defaultKernelName": "csharp",
    "items": [
     {
      "aliases": [],
      "languageName": "csharp",
      "name": "csharp"
     }
    ]
   }
  }
 },
 "nbformat": 4,
 "nbformat_minor": 2
}
