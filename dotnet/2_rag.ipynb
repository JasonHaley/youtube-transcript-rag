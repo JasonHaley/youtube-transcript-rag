{
 "cells": [
  {
   "cell_type": "markdown",
   "metadata": {},
   "source": [
    "# Lab 2: Build a RAG Application with Semantic Kernel, Part 1\n",
    "\n",
    "Like with [Lab 1](./1_search.ipynb) you will use the transcripts from the [Boston Azure Youtube channel](https://www.youtube.com/bostonazure)(included in this repo) to create a RAG application with Semantic Kernel. \n",
    "\n",
    "## Learning Objectives\n",
    "\n",
    "* Load the environment variables needed from the .env file (this assumes you are running this in VS Code)\n",
    "* Learn how to interact with AzureOpenAI using Semantic Kernel (not the AzureOpenAI client like we did in Lab 1)\n",
    "* Learn the features of Semantic Kernel needed to implement a RAG application\n",
    "\n",
    "## Goals\n",
    "1. Create functionality to provide a text query to an LLM using a prompt template\n",
    "2. Have an in-memory vector store searched for the most similar video transcripts given a text query\n",
    "3. Send a prompt to OpenAI to then get a response to the query\n",
    "\n",
    "> NOTE:\n",
    "> \n",
    "> There is no web UI to this \"application\" we are going to build - only this notebook.\n",
    ">\n",
    "\n",
    "### Step 1: Load environment variables and setup Semantic Kernel to use AzureOpenAI"
   ]
  },
  {
   "cell_type": "markdown",
   "metadata": {},
   "source": [
    "Add references for libraries we are going to use and using statements to simplify our code:"
   ]
  },
  {
   "cell_type": "code",
   "execution_count": 2,
   "metadata": {
    "dotnet_interactive": {
     "language": "csharp"
    },
    "polyglot_notebook": {
     "kernelName": "csharp"
    },
    "vscode": {
     "languageId": "polyglot-notebook"
    }
   },
   "outputs": [
    {
     "data": {
      "text/html": [
       "<div><div></div><div></div><div><strong>Installed Packages</strong><ul><li><span>dotenv.net, 3.1.3</span></li><li><span>Microsoft.Extensions.DependencyInjection.Abstractions, 8.0.0</span></li><li><span>Microsoft.SemanticKernel, 1.10.0</span></li><li><span>Microsoft.SemanticKernel.Connectors.OpenAI, 1.10.0</span></li></ul></div></div>"
      ]
     },
     "metadata": {},
     "output_type": "display_data"
    }
   ],
   "source": [
    "#r \"nuget: Microsoft.Extensions.DependencyInjection.Abstractions, 8.0.0.0\"\n",
    "#r \"nuget: Microsoft.SemanticKernel, *-*\"\n",
    "#r \"nuget: Microsoft.SemanticKernel.Connectors.OpenAI, *-*\"\n",
    "#r \"nuget: dotenv.net, *-*\"\n",
    "\n",
    "using dotenv.net;\n",
    "using Microsoft.SemanticKernel;\n",
    "using Microsoft.SemanticKernel.ChatCompletion;\n",
    "using Microsoft.SemanticKernel.Connectors.OpenAI;"
   ]
  },
  {
   "cell_type": "code",
   "execution_count": 3,
   "metadata": {
    "dotnet_interactive": {
     "language": "csharp"
    },
    "polyglot_notebook": {
     "kernelName": "csharp"
    },
    "vscode": {
     "languageId": "polyglot-notebook"
    }
   },
   "outputs": [],
   "source": [
    "DotEnv.Load();\n",
    "\n",
    "var envVars = DotEnv.Read();\n",
    "\n",
    "Kernel kernel = Kernel.CreateBuilder()\n",
    "            .AddAzureOpenAIChatCompletion(envVars[\"AZURE_OPENAI_MODEL_DEPLOYMENT_NAME\"], \n",
    "                envVars[\"AZURE_OPENAI_ENDPOINT\"], \n",
    "                envVars[\"AZURE_OPENAI_API_KEY\"])\n",
    "            .Build();"
   ]
  },
  {
   "cell_type": "markdown",
   "metadata": {},
   "source": [
    "### Step 2: Use Semantic Kernel to interact with the AzureOpenAI chat model\n",
    "\n",
    "In order to verify the model is setup correctly, we can test by making a call with the invoke method."
   ]
  },
  {
   "cell_type": "code",
   "execution_count": 4,
   "metadata": {
    "dotnet_interactive": {
     "language": "csharp"
    },
    "polyglot_notebook": {
     "kernelName": "csharp"
    },
    "vscode": {
     "languageId": "polyglot-notebook"
    }
   },
   "outputs": [
    {
     "name": "stdout",
     "output_type": "stream",
     "text": [
      "MIT stands for the Massachusetts Institute of Technology. It is a private research university located in Cambridge, Massachusetts, USA. MIT is renowned for its emphasis on science, engineering, and technology, but it also offers programs in various other disciplines such as business, economics, humanities, and social sciences. It is widely regarded as one of the world's leading universities, recognized for its cutting-edge research, innovation, and high-quality education. MIT has produced numerous notable alumni, including Nobel laureates, Turing Award winners, and innovators in various fields.\r\n"
     ]
    }
   ],
   "source": [
    "var response = await kernel.InvokePromptAsync(\"What is MIT?\");\n",
    "\n",
    "Console.WriteLine(response.ToString());"
   ]
  },
  {
   "cell_type": "code",
   "execution_count": 5,
   "metadata": {
    "dotnet_interactive": {
     "language": "csharp"
    },
    "polyglot_notebook": {
     "kernelName": "csharp"
    },
    "vscode": {
     "languageId": "polyglot-notebook"
    }
   },
   "outputs": [
    {
     "name": "stdout",
     "output_type": "stream",
     "text": [
      "MIT stands for the Massachusetts Institute of Technology. It is a prestigious university located in Cambridge, Massachusetts, known for its strong emphasis on science, technology, engineering, and mathematics (STEM) education and research.\r\n"
     ]
    }
   ],
   "source": [
    "// Get chat completion service\n",
    "var chatCompletionService = kernel.GetRequiredService<IChatCompletionService>();\n",
    "\n",
    "var messages = new ChatHistory();\n",
    "\n",
    "messages.AddSystemMessage(\"You are a helpful assistant that is very brief but polite in your answers. Answer questions in less than 50 words.\");\n",
    "messages.AddUserMessage(\"What is MIT?\");\n",
    "\n",
    "var result = await chatCompletionService.GetChatMessageContentAsync(\n",
    "                messages,\n",
    "                kernel: kernel);\n",
    "\n",
    "Console.WriteLine(result.ToString());"
   ]
  }
 ],
 "metadata": {
  "kernelspec": {
   "display_name": ".NET (C#)",
   "language": "C#",
   "name": ".net-csharp"
  },
  "language_info": {
   "name": "python"
  },
  "polyglot_notebook": {
   "kernelInfo": {
    "defaultKernelName": "csharp",
    "items": [
     {
      "aliases": [],
      "name": "csharp"
     }
    ]
   }
  }
 },
 "nbformat": 4,
 "nbformat_minor": 2
}
