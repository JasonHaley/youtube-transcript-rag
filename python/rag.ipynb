{
 "cells": [
  {
   "cell_type": "markdown",
   "metadata": {},
   "source": [
    "# Build a RAG Application for Youtube Transcripts using LangChain\n",
    "\n"
   ]
  },
  {
   "cell_type": "code",
   "execution_count": 2,
   "metadata": {},
   "outputs": [
    {
     "data": {
      "text/plain": [
       "True"
      ]
     },
     "execution_count": 2,
     "metadata": {},
     "output_type": "execute_result"
    }
   ],
   "source": [
    "import os\n",
    "from dotenv import load_dotenv\n",
    "\n",
    "load_dotenv()"
   ]
  },
  {
   "cell_type": "code",
   "execution_count": 5,
   "metadata": {},
   "outputs": [],
   "source": [
    "from langchain_openai import AzureChatOpenAI\n",
    "\n",
    "client = AzureChatOpenAI(\n",
    "  api_key = os.getenv(\"AZURE_OPENAI_API_KEY\"),\n",
    "  api_version = \"2024-02-01\",\n",
    "  azure_endpoint = os.getenv(\"AZURE_OPENAI_ENDPOINT\") \n",
    ")\n",
    "\n",
    "model = AzureChatOpenAI(\n",
    "  openai_api_version=\"2023-05-15\",\n",
    "  azure_deployment= os.getenv(\"AZURE_OPENAI_MODEL_DEPLOYMENT_NAME\")\n",
    ")"
   ]
  },
  {
   "cell_type": "code",
   "execution_count": 7,
   "metadata": {},
   "outputs": [
    {
     "data": {
      "text/plain": [
       "AIMessage(content='MIT stands for the Massachusetts Institute of Technology, which is a private research university located in Cambridge, Massachusetts, USA. It is known for its strong emphasis on science, engineering, and technology, and is one of the most prestigious and influential institutions of higher education in the world. MIT is also known for its entrepreneurial spirit and its role in promoting innovation and technological advancement.', response_metadata={'token_usage': {'completion_tokens': 73, 'prompt_tokens': 11, 'total_tokens': 84}, 'model_name': 'gpt-35-turbo', 'system_fingerprint': 'fp_2f57f81c11', 'finish_reason': 'stop', 'logprobs': None, 'content_filter_results': {}}, id='run-27a7737c-228d-4800-b9f4-9abd167cfb2d-0')"
      ]
     },
     "execution_count": 7,
     "metadata": {},
     "output_type": "execute_result"
    }
   ],
   "source": [
    "model.invoke(\"What is MIT?\")"
   ]
  },
  {
   "cell_type": "code",
   "execution_count": 8,
   "metadata": {},
   "outputs": [
    {
     "data": {
      "text/plain": [
       "'MIT stands for the Massachusetts Institute of Technology, which is a prestigious private research university located in Cambridge, Massachusetts. It is known for its strong emphasis on science, engineering, and technology, and is one of the leading institutions for higher education and research in the world.'"
      ]
     },
     "execution_count": 8,
     "metadata": {},
     "output_type": "execute_result"
    }
   ],
   "source": [
    "from langchain_core.output_parsers import StrOutputParser\n",
    "\n",
    "parser = StrOutputParser()\n",
    "\n",
    "chain = model | parser\n",
    "chain.invoke(\"What is MIT?\")"
   ]
  },
  {
   "cell_type": "code",
   "execution_count": 9,
   "metadata": {},
   "outputs": [
    {
     "data": {
      "text/plain": [
       "'Human: \\nAnswer the question based on the context below. If you can\\'t \\nanswer the question, reply \"I don\\'t know\".\\n\\nContext: Harvard is in Cambridge\\n\\nQuestion: Where is Harvard?\\n'"
      ]
     },
     "execution_count": 9,
     "metadata": {},
     "output_type": "execute_result"
    }
   ],
   "source": [
    "from langchain.prompts import ChatPromptTemplate\n",
    "\n",
    "template = \"\"\"\n",
    "Answer the question based on the context below. If you can't \n",
    "answer the question, reply \"I don't know\".\n",
    "\n",
    "Context: {context}\n",
    "\n",
    "Question: {question}\n",
    "\"\"\"\n",
    "\n",
    "prompt = ChatPromptTemplate.from_template(template)\n",
    "prompt.format(context=\"Harvard is in Cambridge\", question=\"Where is Harvard?\")"
   ]
  },
  {
   "cell_type": "code",
   "execution_count": 10,
   "metadata": {},
   "outputs": [
    {
     "data": {
      "text/plain": [
       "'Harvard is in Cambridge.'"
      ]
     },
     "execution_count": 10,
     "metadata": {},
     "output_type": "execute_result"
    }
   ],
   "source": [
    "chain = prompt | model | parser\n",
    "chain.invoke({\n",
    "    \"context\": \"Harvard is in Cambridge\",\n",
    "    \"question\": \"Where is Harvard?\"\n",
    "})"
   ]
  },
  {
   "cell_type": "code",
   "execution_count": 42,
   "metadata": {},
   "outputs": [],
   "source": [
    "DATASET_NAME = \"./prep/output/master_transcriptions.json\"\n",
    "\n",
    "import pandas as pd\n",
    "transcripts_dataset = pd.read_json(DATASET_NAME)"
   ]
  },
  {
   "cell_type": "code",
   "execution_count": 43,
   "metadata": {},
   "outputs": [
    {
     "data": {
      "text/html": [
       "<div>\n",
       "<style scoped>\n",
       "    .dataframe tbody tr th:only-of-type {\n",
       "        vertical-align: middle;\n",
       "    }\n",
       "\n",
       "    .dataframe tbody tr th {\n",
       "        vertical-align: top;\n",
       "    }\n",
       "\n",
       "    .dataframe thead th {\n",
       "        text-align: right;\n",
       "    }\n",
       "</style>\n",
       "<table border=\"1\" class=\"dataframe\">\n",
       "  <thead>\n",
       "    <tr style=\"text-align: right;\">\n",
       "      <th></th>\n",
       "      <th>speaker</th>\n",
       "      <th>title</th>\n",
       "      <th>videoId</th>\n",
       "      <th>description</th>\n",
       "      <th>start</th>\n",
       "      <th>seconds</th>\n",
       "      <th>text</th>\n",
       "    </tr>\n",
       "  </thead>\n",
       "  <tbody>\n",
       "    <tr>\n",
       "      <th>0</th>\n",
       "      <td></td>\n",
       "      <td>Map Azure DevOps Runtime Variables to Terrafor...</td>\n",
       "      <td>-ssTKjHVP_Q</td>\n",
       "      <td>This is a recording of the March 29, 2023 virt...</td>\n",
       "      <td>00:00:02</td>\n",
       "      <td>2</td>\n",
       "      <td>Map Azure DevOps Runtime Variables to Terrafor...</td>\n",
       "    </tr>\n",
       "    <tr>\n",
       "      <th>1</th>\n",
       "      <td></td>\n",
       "      <td>Map Azure DevOps Runtime Variables to Terrafor...</td>\n",
       "      <td>-ssTKjHVP_Q</td>\n",
       "      <td>This is a recording of the March 29, 2023 virt...</td>\n",
       "      <td>00:05:04</td>\n",
       "      <td>304</td>\n",
       "      <td>from that now the only thing you know so I'm b...</td>\n",
       "    </tr>\n",
       "    <tr>\n",
       "      <th>2</th>\n",
       "      <td></td>\n",
       "      <td>Map Azure DevOps Runtime Variables to Terrafor...</td>\n",
       "      <td>-ssTKjHVP_Q</td>\n",
       "      <td>This is a recording of the March 29, 2023 virt...</td>\n",
       "      <td>00:10:07</td>\n",
       "      <td>607</td>\n",
       "      <td>I'm reading or I'm trying to follow somebody h...</td>\n",
       "    </tr>\n",
       "    <tr>\n",
       "      <th>3</th>\n",
       "      <td></td>\n",
       "      <td>Map Azure DevOps Runtime Variables to Terrafor...</td>\n",
       "      <td>-ssTKjHVP_Q</td>\n",
       "      <td>This is a recording of the March 29, 2023 virt...</td>\n",
       "      <td>00:15:10</td>\n",
       "      <td>910</td>\n",
       "      <td>and after that I'm using the stage called depl...</td>\n",
       "    </tr>\n",
       "    <tr>\n",
       "      <th>4</th>\n",
       "      <td></td>\n",
       "      <td>Map Azure DevOps Runtime Variables to Terrafor...</td>\n",
       "      <td>-ssTKjHVP_Q</td>\n",
       "      <td>This is a recording of the March 29, 2023 virt...</td>\n",
       "      <td>00:20:16</td>\n",
       "      <td>1216</td>\n",
       "      <td>this thing which I extreme you so the user inp...</td>\n",
       "    </tr>\n",
       "    <tr>\n",
       "      <th>...</th>\n",
       "      <td>...</td>\n",
       "      <td>...</td>\n",
       "      <td>...</td>\n",
       "      <td>...</td>\n",
       "      <td>...</td>\n",
       "      <td>...</td>\n",
       "      <td>...</td>\n",
       "    </tr>\n",
       "    <tr>\n",
       "      <th>595</th>\n",
       "      <td></td>\n",
       "      <td>Gregor Suttie - Super Charge Your Learning of ...</td>\n",
       "      <td>_dM5AqWlga8</td>\n",
       "      <td>This is a recording of the April 16, 2020 virt...</td>\n",
       "      <td>00:45:37</td>\n",
       "      <td>2737</td>\n",
       "      <td>cosmos DB that filters the results by cause do...</td>\n",
       "    </tr>\n",
       "    <tr>\n",
       "      <th>596</th>\n",
       "      <td></td>\n",
       "      <td>Gregor Suttie - Super Charge Your Learning of ...</td>\n",
       "      <td>_dM5AqWlga8</td>\n",
       "      <td>This is a recording of the April 16, 2020 virt...</td>\n",
       "      <td>00:50:40</td>\n",
       "      <td>3040</td>\n",
       "      <td>you secured divorce from eks so there's lots o...</td>\n",
       "    </tr>\n",
       "    <tr>\n",
       "      <th>597</th>\n",
       "      <td></td>\n",
       "      <td>Gregor Suttie - Super Charge Your Learning of ...</td>\n",
       "      <td>_dM5AqWlga8</td>\n",
       "      <td>This is a recording of the April 16, 2020 virt...</td>\n",
       "      <td>00:55:43</td>\n",
       "      <td>3343</td>\n",
       "      <td>like Ben Coleman has got around the template v...</td>\n",
       "    </tr>\n",
       "    <tr>\n",
       "      <th>598</th>\n",
       "      <td></td>\n",
       "      <td>Gregor Suttie - Super Charge Your Learning of ...</td>\n",
       "      <td>_dM5AqWlga8</td>\n",
       "      <td>This is a recording of the April 16, 2020 virt...</td>\n",
       "      <td>01:00:47</td>\n",
       "      <td>3647</td>\n",
       "      <td>the blanks and if you're done Wayne and you're...</td>\n",
       "    </tr>\n",
       "    <tr>\n",
       "      <th>599</th>\n",
       "      <td></td>\n",
       "      <td>Gregor Suttie - Super Charge Your Learning of ...</td>\n",
       "      <td>_dM5AqWlga8</td>\n",
       "      <td>This is a recording of the April 16, 2020 virt...</td>\n",
       "      <td>01:05:53</td>\n",
       "      <td>3953</td>\n",
       "      <td>also you know again I I feel really bad I was ...</td>\n",
       "    </tr>\n",
       "  </tbody>\n",
       "</table>\n",
       "<p>600 rows × 7 columns</p>\n",
       "</div>"
      ],
      "text/plain": [
       "    speaker                                              title      videoId  \\\n",
       "0            Map Azure DevOps Runtime Variables to Terrafor...  -ssTKjHVP_Q   \n",
       "1            Map Azure DevOps Runtime Variables to Terrafor...  -ssTKjHVP_Q   \n",
       "2            Map Azure DevOps Runtime Variables to Terrafor...  -ssTKjHVP_Q   \n",
       "3            Map Azure DevOps Runtime Variables to Terrafor...  -ssTKjHVP_Q   \n",
       "4            Map Azure DevOps Runtime Variables to Terrafor...  -ssTKjHVP_Q   \n",
       "..      ...                                                ...          ...   \n",
       "595          Gregor Suttie - Super Charge Your Learning of ...  _dM5AqWlga8   \n",
       "596          Gregor Suttie - Super Charge Your Learning of ...  _dM5AqWlga8   \n",
       "597          Gregor Suttie - Super Charge Your Learning of ...  _dM5AqWlga8   \n",
       "598          Gregor Suttie - Super Charge Your Learning of ...  _dM5AqWlga8   \n",
       "599          Gregor Suttie - Super Charge Your Learning of ...  _dM5AqWlga8   \n",
       "\n",
       "                                           description     start  seconds  \\\n",
       "0    This is a recording of the March 29, 2023 virt...  00:00:02        2   \n",
       "1    This is a recording of the March 29, 2023 virt...  00:05:04      304   \n",
       "2    This is a recording of the March 29, 2023 virt...  00:10:07      607   \n",
       "3    This is a recording of the March 29, 2023 virt...  00:15:10      910   \n",
       "4    This is a recording of the March 29, 2023 virt...  00:20:16     1216   \n",
       "..                                                 ...       ...      ...   \n",
       "595  This is a recording of the April 16, 2020 virt...  00:45:37     2737   \n",
       "596  This is a recording of the April 16, 2020 virt...  00:50:40     3040   \n",
       "597  This is a recording of the April 16, 2020 virt...  00:55:43     3343   \n",
       "598  This is a recording of the April 16, 2020 virt...  01:00:47     3647   \n",
       "599  This is a recording of the April 16, 2020 virt...  01:05:53     3953   \n",
       "\n",
       "                                                  text  \n",
       "0    Map Azure DevOps Runtime Variables to Terrafor...  \n",
       "1    from that now the only thing you know so I'm b...  \n",
       "2    I'm reading or I'm trying to follow somebody h...  \n",
       "3    and after that I'm using the stage called depl...  \n",
       "4    this thing which I extreme you so the user inp...  \n",
       "..                                                 ...  \n",
       "595  cosmos DB that filters the results by cause do...  \n",
       "596  you secured divorce from eks so there's lots o...  \n",
       "597  like Ben Coleman has got around the template v...  \n",
       "598  the blanks and if you're done Wayne and you're...  \n",
       "599  also you know again I I feel really bad I was ...  \n",
       "\n",
       "[600 rows x 7 columns]"
      ]
     },
     "execution_count": 43,
     "metadata": {},
     "output_type": "execute_result"
    }
   ],
   "source": [
    "transcripts_dataset"
   ]
  },
  {
   "cell_type": "code",
   "execution_count": 44,
   "metadata": {},
   "outputs": [],
   "source": [
    "from langchain_community.document_loaders import DataFrameLoader\n",
    "loader = DataFrameLoader(transcripts_dataset, page_content_column=\"text\")\n",
    "transcripts = loader.load()"
   ]
  },
  {
   "cell_type": "code",
   "execution_count": 45,
   "metadata": {},
   "outputs": [
    {
     "name": "stdout",
     "output_type": "stream",
     "text": [
      "Embedding length: 1536\n",
      "[-0.0018333289920419945, -0.011083231397127654, -0.02962633060017498, -0.019222479468945192, -0.036047146015586715, 0.025456797537283127, -0.02816099882530481, 0.012508599188675555, -0.005631533962546989, -0.0015494211236423516]\n"
     ]
    }
   ],
   "source": [
    "from langchain_openai.embeddings import AzureOpenAIEmbeddings\n",
    "\n",
    "embeddings = AzureOpenAIEmbeddings()\n",
    "embedded_query = embeddings.embed_query(\"Where is MIT?\")\n",
    "\n",
    "print(f\"Embedding length: {len(embedded_query)}\")\n",
    "print(embedded_query[:10])"
   ]
  },
  {
   "cell_type": "code",
   "execution_count": 27,
   "metadata": {},
   "outputs": [],
   "source": [
    "sentence1 = embeddings.embed_query(\"MIT is in Cambridge\")\n",
    "sentence2 = embeddings.embed_query(\"Cambridge is across the river from Boston\")"
   ]
  },
  {
   "cell_type": "code",
   "execution_count": 28,
   "metadata": {},
   "outputs": [
    {
     "data": {
      "text/plain": [
       "(0.9192585966676008, 0.8041802064416832)"
      ]
     },
     "execution_count": 28,
     "metadata": {},
     "output_type": "execute_result"
    }
   ],
   "source": [
    "from sklearn.metrics.pairwise import cosine_similarity\n",
    "\n",
    "query_sentence1_similarity = cosine_similarity([embedded_query], [sentence1])[0][0]\n",
    "query_sentence2_similarity = cosine_similarity([embedded_query], [sentence2])[0][0]\n",
    "\n",
    "query_sentence1_similarity, query_sentence2_similarity"
   ]
  },
  {
   "cell_type": "code",
   "execution_count": 33,
   "metadata": {},
   "outputs": [],
   "source": [
    "from langchain_community.vectorstores import DocArrayInMemorySearch\n",
    "\n",
    "vectorstore1 = DocArrayInMemorySearch.from_texts(\n",
    "    [\n",
    "        \"MIT is in Cambridge\",\n",
    "        \"Harvard is in Cambridge\",\n",
    "        \"Harvard is a university\",\n",
    "        \"Cambridge is across the river from Boston\",\n",
    "        \"Beacon Hill is in Boston\",\n",
    "        \"Samuel Adams lived in Boston\",\n",
    "    ],\n",
    "    embedding=embeddings,\n",
    ")"
   ]
  },
  {
   "cell_type": "code",
   "execution_count": 35,
   "metadata": {},
   "outputs": [
    {
     "data": {
      "text/plain": [
       "[(Document(page_content='MIT is in Cambridge'), 0.9192586047417408),\n",
       " (Document(page_content='Harvard is in Cambridge'), 0.8438128759663384),\n",
       " (Document(page_content='Harvard is a university'), 0.8267941200342381)]"
      ]
     },
     "execution_count": 35,
     "metadata": {},
     "output_type": "execute_result"
    }
   ],
   "source": [
    "vectorstore1.similarity_search_with_score(query=\"Where is MIT?\", k=3)"
   ]
  },
  {
   "cell_type": "code",
   "execution_count": 36,
   "metadata": {},
   "outputs": [
    {
     "data": {
      "text/plain": [
       "[Document(page_content='MIT is in Cambridge'),\n",
       " Document(page_content='Harvard is in Cambridge'),\n",
       " Document(page_content='Harvard is a university'),\n",
       " Document(page_content='Beacon Hill is in Boston')]"
      ]
     },
     "execution_count": 36,
     "metadata": {},
     "output_type": "execute_result"
    }
   ],
   "source": [
    "retriever1 = vectorstore1.as_retriever()\n",
    "retriever1.invoke(\"Where is MIT?\")"
   ]
  },
  {
   "cell_type": "code",
   "execution_count": 37,
   "metadata": {},
   "outputs": [
    {
     "data": {
      "text/plain": [
       "{'context': [Document(page_content='Samuel Adams lived in Boston'),\n",
       "  Document(page_content='Harvard is in Cambridge'),\n",
       "  Document(page_content='Cambridge is across the river from Boston'),\n",
       "  Document(page_content='Beacon Hill is in Boston')],\n",
       " 'question': 'Where did Sam Adams live?'}"
      ]
     },
     "execution_count": 37,
     "metadata": {},
     "output_type": "execute_result"
    }
   ],
   "source": [
    "from langchain_core.runnables import RunnableParallel, RunnablePassthrough\n",
    "\n",
    "setup = RunnableParallel(context=retriever1, question=RunnablePassthrough())\n",
    "setup.invoke(\"Where did Sam Adams live?\")"
   ]
  },
  {
   "cell_type": "code",
   "execution_count": 38,
   "metadata": {},
   "outputs": [
    {
     "data": {
      "text/plain": [
       "'Sam Adams lived in Boston.'"
      ]
     },
     "execution_count": 38,
     "metadata": {},
     "output_type": "execute_result"
    }
   ],
   "source": [
    "chain = setup | prompt | model | parser\n",
    "chain.invoke(\"Where did Sam Adams live?\")"
   ]
  },
  {
   "cell_type": "code",
   "execution_count": 39,
   "metadata": {},
   "outputs": [
    {
     "data": {
      "text/plain": [
       "'Cambridge is across the river from Boston.'"
      ]
     },
     "execution_count": 39,
     "metadata": {},
     "output_type": "execute_result"
    }
   ],
   "source": [
    "chain.invoke(\"Where is Cambridge?\")"
   ]
  },
  {
   "cell_type": "code",
   "execution_count": 46,
   "metadata": {},
   "outputs": [],
   "source": [
    "vectorstore2 = DocArrayInMemorySearch.from_documents(transcripts, embeddings)"
   ]
  },
  {
   "cell_type": "code",
   "execution_count": 48,
   "metadata": {},
   "outputs": [
    {
     "data": {
      "text/plain": [
       "'Langchain is a popular orchestration library used in the open source world for language models and is available in multiple languages. It is used for turning user queries into keyword search queries for search indexes.'"
      ]
     },
     "execution_count": 48,
     "metadata": {},
     "output_type": "execute_result"
    }
   ],
   "source": [
    "chain = (\n",
    "    {\"context\": vectorstore2.as_retriever(), \"question\": RunnablePassthrough()}\n",
    "    | prompt\n",
    "    | model\n",
    "    | parser\n",
    ")\n",
    "chain.invoke(\"What is langchain?\")"
   ]
  }
 ],
 "metadata": {
  "kernelspec": {
   "display_name": ".venv",
   "language": "python",
   "name": "python3"
  },
  "language_info": {
   "codemirror_mode": {
    "name": "ipython",
    "version": 3
   },
   "file_extension": ".py",
   "mimetype": "text/x-python",
   "name": "python",
   "nbconvert_exporter": "python",
   "pygments_lexer": "ipython3",
   "version": "3.11.7"
  }
 },
 "nbformat": 4,
 "nbformat_minor": 2
}
